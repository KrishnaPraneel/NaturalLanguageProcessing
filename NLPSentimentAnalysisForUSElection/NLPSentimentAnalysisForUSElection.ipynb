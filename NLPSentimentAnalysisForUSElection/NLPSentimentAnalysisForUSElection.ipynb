{
 "cells": [
  {
   "cell_type": "code",
   "execution_count": 10,
   "id": "2ad8f5e8",
   "metadata": {},
   "outputs": [
    {
     "name": "stdout",
     "output_type": "stream",
     "text": [
      "Requirement already satisfied: shapely in ./anaconda3/lib/python3.11/site-packages (2.0.5)\n",
      "Requirement already satisfied: numpy<3,>=1.14 in ./anaconda3/lib/python3.11/site-packages (from shapely) (1.26.4)\n",
      "Requirement already satisfied: geopandas in ./anaconda3/lib/python3.11/site-packages (1.0.1)\n",
      "Requirement already satisfied: numpy>=1.22 in ./anaconda3/lib/python3.11/site-packages (from geopandas) (1.26.4)\n",
      "Requirement already satisfied: pyogrio>=0.7.2 in ./anaconda3/lib/python3.11/site-packages (from geopandas) (0.9.0)\n",
      "Requirement already satisfied: packaging in ./anaconda3/lib/python3.11/site-packages (from geopandas) (23.1)\n",
      "Requirement already satisfied: pandas>=1.4.0 in ./anaconda3/lib/python3.11/site-packages (from geopandas) (2.0.3)\n",
      "Requirement already satisfied: pyproj>=3.3.0 in ./anaconda3/lib/python3.11/site-packages (from geopandas) (3.6.1)\n",
      "Requirement already satisfied: shapely>=2.0.0 in ./anaconda3/lib/python3.11/site-packages (from geopandas) (2.0.5)\n",
      "Requirement already satisfied: python-dateutil>=2.8.2 in ./anaconda3/lib/python3.11/site-packages (from pandas>=1.4.0->geopandas) (2.8.2)\n",
      "Requirement already satisfied: pytz>=2020.1 in ./anaconda3/lib/python3.11/site-packages (from pandas>=1.4.0->geopandas) (2023.3.post1)\n",
      "Requirement already satisfied: tzdata>=2022.1 in ./anaconda3/lib/python3.11/site-packages (from pandas>=1.4.0->geopandas) (2023.3)\n",
      "Requirement already satisfied: certifi in ./anaconda3/lib/python3.11/site-packages (from pyogrio>=0.7.2->geopandas) (2023.7.22)\n",
      "Requirement already satisfied: six>=1.5 in ./anaconda3/lib/python3.11/site-packages (from python-dateutil>=2.8.2->pandas>=1.4.0->geopandas) (1.16.0)\n"
     ]
    },
    {
     "data": {
      "text/html": [
       "        <script type=\"text/javascript\">\n",
       "        window.PlotlyConfig = {MathJaxConfig: 'local'};\n",
       "        if (window.MathJax && window.MathJax.Hub && window.MathJax.Hub.Config) {window.MathJax.Hub.Config({SVG: {font: \"STIX-Web\"}});}\n",
       "        if (typeof require !== 'undefined') {\n",
       "        require.undef(\"plotly\");\n",
       "        requirejs.config({\n",
       "            paths: {\n",
       "                'plotly': ['https://cdn.plot.ly/plotly-2.31.1.min']\n",
       "            }\n",
       "        });\n",
       "        require(['plotly'], function(Plotly) {\n",
       "            window._Plotly = Plotly;\n",
       "        });\n",
       "        }\n",
       "        </script>\n",
       "        "
      ]
     },
     "metadata": {},
     "output_type": "display_data"
    },
    {
     "data": {
      "text/html": [
       "        <script type=\"text/javascript\">\n",
       "        window.PlotlyConfig = {MathJaxConfig: 'local'};\n",
       "        if (window.MathJax && window.MathJax.Hub && window.MathJax.Hub.Config) {window.MathJax.Hub.Config({SVG: {font: \"STIX-Web\"}});}\n",
       "        if (typeof require !== 'undefined') {\n",
       "        require.undef(\"plotly\");\n",
       "        requirejs.config({\n",
       "            paths: {\n",
       "                'plotly': ['https://cdn.plot.ly/plotly-2.31.1.min']\n",
       "            }\n",
       "        });\n",
       "        require(['plotly'], function(Plotly) {\n",
       "            window._Plotly = Plotly;\n",
       "        });\n",
       "        }\n",
       "        </script>\n",
       "        "
      ]
     },
     "metadata": {},
     "output_type": "display_data"
    },
    {
     "name": "stdout",
     "output_type": "stream",
     "text": [
      "Requirement already satisfied: pyldavis in ./anaconda3/lib/python3.11/site-packages (3.4.1)\n",
      "Requirement already satisfied: numpy>=1.24.2 in ./anaconda3/lib/python3.11/site-packages (from pyldavis) (1.26.4)\n",
      "Requirement already satisfied: scipy in ./anaconda3/lib/python3.11/site-packages (from pyldavis) (1.11.1)\n",
      "Requirement already satisfied: pandas>=2.0.0 in ./anaconda3/lib/python3.11/site-packages (from pyldavis) (2.0.3)\n",
      "Requirement already satisfied: joblib>=1.2.0 in ./anaconda3/lib/python3.11/site-packages (from pyldavis) (1.2.0)\n",
      "Requirement already satisfied: jinja2 in ./anaconda3/lib/python3.11/site-packages (from pyldavis) (3.1.2)\n",
      "Requirement already satisfied: numexpr in ./anaconda3/lib/python3.11/site-packages (from pyldavis) (2.8.4)\n",
      "Requirement already satisfied: funcy in ./anaconda3/lib/python3.11/site-packages (from pyldavis) (2.0)\n",
      "Requirement already satisfied: scikit-learn>=1.0.0 in ./anaconda3/lib/python3.11/site-packages (from pyldavis) (1.4.1.post1)\n",
      "Requirement already satisfied: gensim in ./anaconda3/lib/python3.11/site-packages (from pyldavis) (4.3.0)\n",
      "Requirement already satisfied: setuptools in ./anaconda3/lib/python3.11/site-packages (from pyldavis) (68.0.0)\n",
      "Requirement already satisfied: python-dateutil>=2.8.2 in ./anaconda3/lib/python3.11/site-packages (from pandas>=2.0.0->pyldavis) (2.8.2)\n",
      "Requirement already satisfied: pytz>=2020.1 in ./anaconda3/lib/python3.11/site-packages (from pandas>=2.0.0->pyldavis) (2023.3.post1)\n",
      "Requirement already satisfied: tzdata>=2022.1 in ./anaconda3/lib/python3.11/site-packages (from pandas>=2.0.0->pyldavis) (2023.3)\n",
      "Requirement already satisfied: threadpoolctl>=2.0.0 in ./anaconda3/lib/python3.11/site-packages (from scikit-learn>=1.0.0->pyldavis) (2.2.0)\n",
      "Requirement already satisfied: smart-open>=1.8.1 in ./anaconda3/lib/python3.11/site-packages (from gensim->pyldavis) (5.2.1)\n",
      "Requirement already satisfied: FuzzyTM>=0.4.0 in ./anaconda3/lib/python3.11/site-packages (from gensim->pyldavis) (2.0.9)\n",
      "Requirement already satisfied: MarkupSafe>=2.0 in ./anaconda3/lib/python3.11/site-packages (from jinja2->pyldavis) (2.1.1)\n",
      "Requirement already satisfied: pyfume in ./anaconda3/lib/python3.11/site-packages (from FuzzyTM>=0.4.0->gensim->pyldavis) (0.3.1)\n",
      "Requirement already satisfied: six>=1.5 in ./anaconda3/lib/python3.11/site-packages (from python-dateutil>=2.8.2->pandas>=2.0.0->pyldavis) (1.16.0)\n",
      "Requirement already satisfied: simpful in ./anaconda3/lib/python3.11/site-packages (from pyfume->FuzzyTM>=0.4.0->gensim->pyldavis) (2.12.0)\n",
      "Requirement already satisfied: fst-pso in ./anaconda3/lib/python3.11/site-packages (from pyfume->FuzzyTM>=0.4.0->gensim->pyldavis) (1.8.1)\n",
      "Requirement already satisfied: typing-extensions in ./anaconda3/lib/python3.11/site-packages (from pyfume->FuzzyTM>=0.4.0->gensim->pyldavis) (4.11.0)\n",
      "Requirement already satisfied: miniful in ./anaconda3/lib/python3.11/site-packages (from fst-pso->pyfume->FuzzyTM>=0.4.0->gensim->pyldavis) (0.0.6)\n",
      "Requirement already satisfied: squarify in ./anaconda3/lib/python3.11/site-packages (0.4.4)\n",
      "Collecting textblob\n",
      "  Obtaining dependency information for textblob from https://files.pythonhosted.org/packages/02/07/5fd2945356dd839974d3a25de8a142dc37293c21315729a41e775b5f3569/textblob-0.18.0.post0-py3-none-any.whl.metadata\n",
      "  Downloading textblob-0.18.0.post0-py3-none-any.whl.metadata (4.5 kB)\n",
      "Requirement already satisfied: nltk>=3.8 in ./anaconda3/lib/python3.11/site-packages (from textblob) (3.8.1)\n",
      "Requirement already satisfied: click in ./anaconda3/lib/python3.11/site-packages (from nltk>=3.8->textblob) (8.0.4)\n",
      "Requirement already satisfied: joblib in ./anaconda3/lib/python3.11/site-packages (from nltk>=3.8->textblob) (1.2.0)\n",
      "Requirement already satisfied: regex>=2021.8.3 in ./anaconda3/lib/python3.11/site-packages (from nltk>=3.8->textblob) (2022.7.9)\n",
      "Requirement already satisfied: tqdm in ./anaconda3/lib/python3.11/site-packages (from nltk>=3.8->textblob) (4.65.0)\n",
      "Downloading textblob-0.18.0.post0-py3-none-any.whl (626 kB)\n",
      "\u001b[2K   \u001b[90m━━━━━━━━━━━━━━━━━━━━━━━━━━━━━━━━━━━━━━━━\u001b[0m \u001b[32m626.3/626.3 kB\u001b[0m \u001b[31m5.3 MB/s\u001b[0m eta \u001b[36m0:00:00\u001b[0m00:01\u001b[0m00:01\u001b[0m\n",
      "\u001b[?25hInstalling collected packages: textblob\n",
      "Successfully installed textblob-0.18.0.post0\n"
     ]
    },
    {
     "name": "stderr",
     "output_type": "stream",
     "text": [
      "[nltk_data] Downloading package wordnet to\n",
      "[nltk_data]     /Users/krishnapeddibhotla/nltk_data...\n",
      "[nltk_data] Downloading package sentiwordnet to\n",
      "[nltk_data]     /Users/krishnapeddibhotla/nltk_data...\n",
      "[nltk_data]   Unzipping corpora/sentiwordnet.zip.\n",
      "[nltk_data] Downloading package stopwords to\n",
      "[nltk_data]     /Users/krishnapeddibhotla/nltk_data...\n",
      "[nltk_data]   Package stopwords is already up-to-date!\n",
      "[nltk_data] Downloading package punkt to\n",
      "[nltk_data]     /Users/krishnapeddibhotla/nltk_data...\n",
      "[nltk_data]   Package punkt is already up-to-date!\n",
      "[nltk_data] Downloading package averaged_perceptron_tagger to\n",
      "[nltk_data]     /Users/krishnapeddibhotla/nltk_data...\n",
      "[nltk_data]   Unzipping taggers/averaged_perceptron_tagger.zip.\n"
     ]
    }
   ],
   "source": [
    "import numpy as np\n",
    "import pandas as pd\n",
    "import os\n",
    "import string\n",
    "import re\n",
    "import warnings \n",
    "warnings.filterwarnings('ignore')\n",
    "\n",
    "#plotting libraries!\n",
    "import matplotlib.pyplot as plt\n",
    "import seaborn as sns\n",
    "!pip install shapely\n",
    "from shapely.geometry import Point\n",
    "!pip install geopandas\n",
    "import geopandas as gpd\n",
    "from geopandas import GeoDataFrame\n",
    "%matplotlib inline\n",
    "#PLOTLY\n",
    "import plotly\n",
    "import plotly.offline as offline\n",
    "import plotly.graph_objs as go\n",
    "from plotly.offline import download_plotlyjs, init_notebook_mode, plot, iplot\n",
    "init_notebook_mode(connected=True)\n",
    "import cufflinks as cf\n",
    "from collections import defaultdict\n",
    "from plotly import tools\n",
    "from plotly.graph_objs import Scatter, Figure, Layout\n",
    "cf.set_config_file(offline=True)\n",
    "from nltk.corpus import stopwords\n",
    "eng_stopwords = set(stopwords.words(\"english\"))\n",
    "from wordcloud import WordCloud, STOPWORDS\n",
    "from sklearn.decomposition import NMF, LatentDirichletAllocation, TruncatedSVD\n",
    "from sklearn.feature_extraction.text import CountVectorizer\n",
    "!pip install pyldavis \n",
    "import pyLDAvis\n",
    "#import pyLDAvis.sklearn\n",
    "from pylab import bone, pcolor, colorbar, plot, show, rcParams, savefig\n",
    "!pip install squarify\n",
    "import squarify\n",
    "from PIL import Image\n",
    "from os import path\n",
    "from wordcloud import WordCloud, STOPWORDS, ImageColorGenerator\n",
    "!pip install textblob\n",
    "from textblob import TextBlob\n",
    "import nltk\n",
    "from nltk.corpus import wordnet as wn\n",
    "from nltk.corpus import sentiwordnet as swn\n",
    "from nltk.stem import WordNetLemmatizer\n",
    "from nltk.corpus import stopwords\n",
    "\n",
    "nltk.download('wordnet')\n",
    "nltk.download('sentiwordnet')\n",
    "nltk.download('stopwords')\n",
    "nltk.download('punkt')\n",
    "nltk.download('averaged_perceptron_tagger')\n",
    "lemmatizer = WordNetLemmatizer()"
   ]
  },
  {
   "cell_type": "code",
   "execution_count": 11,
   "id": "95417f36",
   "metadata": {},
   "outputs": [
    {
     "name": "stdout",
     "output_type": "stream",
     "text": [
      "Collecting tweet-preprocessor\n",
      "  Obtaining dependency information for tweet-preprocessor from https://files.pythonhosted.org/packages/17/9d/71bd016a9edcef8860c607e531f30bd09b13103c7951ae73dd2bf174163c/tweet_preprocessor-0.6.0-py3-none-any.whl.metadata\n",
      "  Downloading tweet_preprocessor-0.6.0-py3-none-any.whl.metadata (5.9 kB)\n",
      "Downloading tweet_preprocessor-0.6.0-py3-none-any.whl (27 kB)\n",
      "Installing collected packages: tweet-preprocessor\n",
      "Successfully installed tweet-preprocessor-0.6.0\n"
     ]
    }
   ],
   "source": [
    "!pip install tweet-preprocessor\n",
    "import preprocessor as p\n",
    "p.set_options(p.OPT.URL, p.OPT.MENTION, p.OPT.SMILEY, p.OPT.EMOJI)"
   ]
  },
  {
   "cell_type": "code",
   "execution_count": 16,
   "id": "bb41bafd",
   "metadata": {},
   "outputs": [],
   "source": [
    "df = pd.read_csv('/Users/krishnapeddibhotla/Downloads/US Election using twitter sentiment/Bidenall2.csv')"
   ]
  },
  {
   "cell_type": "code",
   "execution_count": 17,
   "id": "163865b0",
   "metadata": {},
   "outputs": [
    {
     "data": {
      "text/html": [
       "<div>\n",
       "<style scoped>\n",
       "    .dataframe tbody tr th:only-of-type {\n",
       "        vertical-align: middle;\n",
       "    }\n",
       "\n",
       "    .dataframe tbody tr th {\n",
       "        vertical-align: top;\n",
       "    }\n",
       "\n",
       "    .dataframe thead th {\n",
       "        text-align: right;\n",
       "    }\n",
       "</style>\n",
       "<table border=\"1\" class=\"dataframe\">\n",
       "  <thead>\n",
       "    <tr style=\"text-align: right;\">\n",
       "      <th></th>\n",
       "      <th>user</th>\n",
       "      <th>text</th>\n",
       "    </tr>\n",
       "  </thead>\n",
       "  <tbody>\n",
       "    <tr>\n",
       "      <th>0</th>\n",
       "      <td>MarkHodder3</td>\n",
       "      <td>@JoeBiden And we’ll find out who won in 2026...</td>\n",
       "    </tr>\n",
       "    <tr>\n",
       "      <th>1</th>\n",
       "      <td>K87327961G</td>\n",
       "      <td>@JoeBiden Your Democratic Nazi Party cannot be...</td>\n",
       "    </tr>\n",
       "    <tr>\n",
       "      <th>2</th>\n",
       "      <td>OldlaceA</td>\n",
       "      <td>@JoeBiden So did Lying Barr</td>\n",
       "    </tr>\n",
       "    <tr>\n",
       "      <th>3</th>\n",
       "      <td>penblogger</td>\n",
       "      <td>@JoeBiden It's clear you didnt compose this tw...</td>\n",
       "    </tr>\n",
       "    <tr>\n",
       "      <th>4</th>\n",
       "      <td>Aquarian0264</td>\n",
       "      <td>@JoeBiden I will vote in person thank you.</td>\n",
       "    </tr>\n",
       "  </tbody>\n",
       "</table>\n",
       "</div>"
      ],
      "text/plain": [
       "           user                                               text\n",
       "0   MarkHodder3    @JoeBiden And we’ll find out who won in 2026...\n",
       "1    K87327961G  @JoeBiden Your Democratic Nazi Party cannot be...\n",
       "2      OldlaceA                        @JoeBiden So did Lying Barr\n",
       "3    penblogger  @JoeBiden It's clear you didnt compose this tw...\n",
       "4  Aquarian0264         @JoeBiden I will vote in person thank you."
      ]
     },
     "execution_count": 17,
     "metadata": {},
     "output_type": "execute_result"
    }
   ],
   "source": [
    "df.head(5)"
   ]
  },
  {
   "cell_type": "code",
   "execution_count": 18,
   "id": "20c6f191",
   "metadata": {},
   "outputs": [
    {
     "data": {
      "text/plain": [
       "user    0\n",
       "text    0\n",
       "dtype: int64"
      ]
     },
     "execution_count": 18,
     "metadata": {},
     "output_type": "execute_result"
    }
   ],
   "source": [
    "# Checking for NAN values\n",
    "df.isna().sum()\n",
    "\n",
    "# Changing the timestamp to datetime format\n",
    "#data['timestamp']=pd.to_datetime(data['timestamp'])\n",
    "#data.head()"
   ]
  },
  {
   "cell_type": "code",
   "execution_count": 19,
   "id": "9eb9feb4",
   "metadata": {},
   "outputs": [
    {
     "name": "stdout",
     "output_type": "stream",
     "text": [
      "@JoeBiden So did Lying Barr\n"
     ]
    },
    {
     "data": {
      "text/plain": [
       "Sentiment(polarity=0.0, subjectivity=0.0)"
      ]
     },
     "execution_count": 19,
     "metadata": {},
     "output_type": "execute_result"
    }
   ],
   "source": [
    "print(df['text'][2])\n",
    "Tweet = TextBlob(df['text'][4])\n",
    "Tweet.sentiment"
   ]
  },
  {
   "cell_type": "code",
   "execution_count": 20,
   "id": "deb238eb",
   "metadata": {},
   "outputs": [
    {
     "name": "stdout",
     "output_type": "stream",
     "text": [
      "2540\n"
     ]
    }
   ],
   "source": [
    "from nltk.tokenize import word_tokenize\n",
    "from nltk.corpus import stopwords\n",
    "stop_words = set(stopwords.words('english'))\n",
    "cleantweets = []\n",
    "postags = []\n",
    "import string\n",
    "table = str.maketrans('','', string.punctuation)\n",
    "for title in df['text']:\n",
    "    try:\n",
    "        title = p.clean(text)\n",
    "        #tokenize + lower case\n",
    "        words2 = word_tokenize(text.lower())\n",
    "        #remove puncts\n",
    "        words3 = [w.translate(table) for w in words2]\n",
    "        #remove stopwords\n",
    "        words4 = [word for word in words3 if word not in stop_words]\n",
    "        #applying lemmatization\n",
    "        words5 = [lemmatizer.lemmatize(word) for word in words4]\n",
    "                \n",
    "        #combining all words\n",
    "        cleantweets.append((\" \".join(words5)).strip())\n",
    "    except:\n",
    "        cleantweets.append(title)\n",
    "        continue\n",
    "\n",
    "print(len(cleantweets))\n",
    "df['clean_Tweets'] = cleantweets"
   ]
  },
  {
   "cell_type": "code",
   "execution_count": 21,
   "id": "77e36716",
   "metadata": {},
   "outputs": [],
   "source": [
    "pos=neg=obj=count=0\n",
    "\n",
    "postagging = []\n",
    "\n",
    "for title in df['clean_Tweets']:\n",
    "    list = word_tokenize(title)\n",
    "    postagging.append(nltk.pos_tag(list))\n",
    "\n",
    "df['pos_tags'] = postagging"
   ]
  },
  {
   "cell_type": "code",
   "execution_count": 22,
   "id": "ad3a348e",
   "metadata": {},
   "outputs": [],
   "source": [
    "# Convert between the PennTreebank tags to simple Wordnet tags\n",
    "def penn_to_wn(tag):\n",
    "    if tag.startswith('J'):\n",
    "        return wn.ADJ\n",
    "    elif tag.startswith('N'):\n",
    "        return wn.NOUN\n",
    "    elif tag.startswith('R'):\n",
    "        return wn.ADV\n",
    "    elif tag.startswith('V'):\n",
    "        return wn.VERB\n",
    "    return None"
   ]
  },
  {
   "cell_type": "code",
   "execution_count": 23,
   "id": "f5edd4e7",
   "metadata": {},
   "outputs": [],
   "source": [
    "def get_sentiment(word,tag):\n",
    "    wn_tag = penn_to_wn(tag)\n",
    "    \n",
    "    if wn_tag not in (wn.NOUN, wn.ADJ, wn.ADV):\n",
    "        return []\n",
    "\n",
    "    #Lemmatization\n",
    "    lemma = lemmatizer.lemmatize(word, pos=wn_tag)\n",
    "    if not lemma:\n",
    "        return []\n",
    "\n",
    "    #Synset is a special kind of a simple interface that is present in NLTK to look up words in WordNet. \n",
    "    #Synset instances are the groupings of synonymous words that express the same concept. \n",
    "    #Some of the words have only one Synset and some have several.\n",
    "    synsets = wn.synsets(word, pos=wn_tag)\n",
    "    if not synsets:\n",
    "        return []\n",
    "\n",
    "    # Take the first sense, the most common\n",
    "    synset = synsets[0]\n",
    "    swn_synset = swn.senti_synset(synset.name())\n",
    "\n",
    "    return [synset.name(), swn_synset.pos_score(),swn_synset.neg_score(),swn_synset.obj_score()]"
   ]
  },
  {
   "cell_type": "code",
   "execution_count": 24,
   "id": "d765bf76",
   "metadata": {},
   "outputs": [],
   "source": [
    "pos=neg=obj=count=0\n",
    "senti_score = []\n",
    "\n",
    "for pos_val in df['pos_tags']:\n",
    "    senti_val = [get_sentiment(x,y) for (x,y) in pos_val]\n",
    "    for score in senti_val:\n",
    "        try:\n",
    "            pos = pos + score[1]  #positive score is stored at 2nd position\n",
    "            neg = neg + score[2]  #negative score is stored at 3rd position\n",
    "        except:\n",
    "            continue\n",
    "    senti_score.append(pos - neg)\n",
    "    pos=neg=0    \n",
    "    \n",
    "df['senti_score'] = senti_score"
   ]
  },
  {
   "cell_type": "code",
   "execution_count": 25,
   "id": "8754986f",
   "metadata": {},
   "outputs": [],
   "source": [
    "df['compound_label'] = df['senti_score'].apply(lambda number: 'positive' if number>=0 else 'negative')"
   ]
  },
  {
   "cell_type": "code",
   "execution_count": 26,
   "id": "7ad35c4c",
   "metadata": {},
   "outputs": [
    {
     "data": {
      "text/html": [
       "<div>\n",
       "<style scoped>\n",
       "    .dataframe tbody tr th:only-of-type {\n",
       "        vertical-align: middle;\n",
       "    }\n",
       "\n",
       "    .dataframe tbody tr th {\n",
       "        vertical-align: top;\n",
       "    }\n",
       "\n",
       "    .dataframe thead th {\n",
       "        text-align: right;\n",
       "    }\n",
       "</style>\n",
       "<table border=\"1\" class=\"dataframe\">\n",
       "  <thead>\n",
       "    <tr style=\"text-align: right;\">\n",
       "      <th></th>\n",
       "      <th>user</th>\n",
       "      <th>text</th>\n",
       "      <th>clean_Tweets</th>\n",
       "      <th>pos_tags</th>\n",
       "      <th>senti_score</th>\n",
       "      <th>compound_label</th>\n",
       "    </tr>\n",
       "  </thead>\n",
       "  <tbody>\n",
       "    <tr>\n",
       "      <th>0</th>\n",
       "      <td>MarkHodder3</td>\n",
       "      <td>@JoeBiden And we’ll find out who won in 2026...</td>\n",
       "      <td>@JoeBiden And we’ll find out who won in 2026...</td>\n",
       "      <td>[(@, JJ), (JoeBiden, NNP), (And, CC), (we, PRP...</td>\n",
       "      <td>0.000</td>\n",
       "      <td>positive</td>\n",
       "    </tr>\n",
       "    <tr>\n",
       "      <th>1</th>\n",
       "      <td>K87327961G</td>\n",
       "      <td>@JoeBiden Your Democratic Nazi Party cannot be...</td>\n",
       "      <td>@JoeBiden Your Democratic Nazi Party cannot be...</td>\n",
       "      <td>[(@, JJ), (JoeBiden, NNP), (Your, NNP), (Democ...</td>\n",
       "      <td>-0.625</td>\n",
       "      <td>negative</td>\n",
       "    </tr>\n",
       "    <tr>\n",
       "      <th>2</th>\n",
       "      <td>OldlaceA</td>\n",
       "      <td>@JoeBiden So did Lying Barr</td>\n",
       "      <td>@JoeBiden So did Lying Barr</td>\n",
       "      <td>[(@, JJ), (JoeBiden, NNP), (So, NNPS), (did, V...</td>\n",
       "      <td>0.000</td>\n",
       "      <td>positive</td>\n",
       "    </tr>\n",
       "    <tr>\n",
       "      <th>3</th>\n",
       "      <td>penblogger</td>\n",
       "      <td>@JoeBiden It's clear you didnt compose this tw...</td>\n",
       "      <td>@JoeBiden It's clear you didnt compose this tw...</td>\n",
       "      <td>[(@, RB), (JoeBiden, NNP), (It, PRP), ('s, VBZ...</td>\n",
       "      <td>0.250</td>\n",
       "      <td>positive</td>\n",
       "    </tr>\n",
       "    <tr>\n",
       "      <th>4</th>\n",
       "      <td>Aquarian0264</td>\n",
       "      <td>@JoeBiden I will vote in person thank you.</td>\n",
       "      <td>@JoeBiden I will vote in person thank you.</td>\n",
       "      <td>[(@, JJ), (JoeBiden, NNP), (I, PRP), (will, MD...</td>\n",
       "      <td>0.000</td>\n",
       "      <td>positive</td>\n",
       "    </tr>\n",
       "  </tbody>\n",
       "</table>\n",
       "</div>"
      ],
      "text/plain": [
       "           user                                               text  \\\n",
       "0   MarkHodder3    @JoeBiden And we’ll find out who won in 2026...   \n",
       "1    K87327961G  @JoeBiden Your Democratic Nazi Party cannot be...   \n",
       "2      OldlaceA                        @JoeBiden So did Lying Barr   \n",
       "3    penblogger  @JoeBiden It's clear you didnt compose this tw...   \n",
       "4  Aquarian0264         @JoeBiden I will vote in person thank you.   \n",
       "\n",
       "                                        clean_Tweets  \\\n",
       "0    @JoeBiden And we’ll find out who won in 2026...   \n",
       "1  @JoeBiden Your Democratic Nazi Party cannot be...   \n",
       "2                        @JoeBiden So did Lying Barr   \n",
       "3  @JoeBiden It's clear you didnt compose this tw...   \n",
       "4         @JoeBiden I will vote in person thank you.   \n",
       "\n",
       "                                            pos_tags  senti_score  \\\n",
       "0  [(@, JJ), (JoeBiden, NNP), (And, CC), (we, PRP...        0.000   \n",
       "1  [(@, JJ), (JoeBiden, NNP), (Your, NNP), (Democ...       -0.625   \n",
       "2  [(@, JJ), (JoeBiden, NNP), (So, NNPS), (did, V...        0.000   \n",
       "3  [(@, RB), (JoeBiden, NNP), (It, PRP), ('s, VBZ...        0.250   \n",
       "4  [(@, JJ), (JoeBiden, NNP), (I, PRP), (will, MD...        0.000   \n",
       "\n",
       "  compound_label  \n",
       "0       positive  \n",
       "1       negative  \n",
       "2       positive  \n",
       "3       positive  \n",
       "4       positive  "
      ]
     },
     "execution_count": 26,
     "metadata": {},
     "output_type": "execute_result"
    }
   ],
   "source": [
    "df.head(5)"
   ]
  },
  {
   "cell_type": "code",
   "execution_count": 27,
   "id": "18931f7c",
   "metadata": {},
   "outputs": [
    {
     "data": {
      "text/plain": [
       "<Axes: ylabel='count'>"
      ]
     },
     "execution_count": 27,
     "metadata": {},
     "output_type": "execute_result"
    },
    {
     "data": {
      "image/png": "[encoded data removed]",
      "text/plain": [
       "<Figure size 640x480 with 1 Axes>"
      ]
     },
     "metadata": {},
     "output_type": "display_data"
    }
   ],
   "source": [
    "df['compound_label'].value_counts().plot(kind='pie')"
   ]
  },
  {
   "cell_type": "code",
   "execution_count": 28,
   "id": "90e88c2e",
   "metadata": {},
   "outputs": [],
   "source": [
    "df1 = pd.read_csv('/Users/krishnapeddibhotla/Downloads/US Election using twitter sentiment/Trumpall2.csv')"
   ]
  },
  {
   "cell_type": "code",
   "execution_count": 29,
   "id": "55266bd9",
   "metadata": {},
   "outputs": [
    {
     "data": {
      "text/html": [
       "<div>\n",
       "<style scoped>\n",
       "    .dataframe tbody tr th:only-of-type {\n",
       "        vertical-align: middle;\n",
       "    }\n",
       "\n",
       "    .dataframe tbody tr th {\n",
       "        vertical-align: top;\n",
       "    }\n",
       "\n",
       "    .dataframe thead th {\n",
       "        text-align: right;\n",
       "    }\n",
       "</style>\n",
       "<table border=\"1\" class=\"dataframe\">\n",
       "  <thead>\n",
       "    <tr style=\"text-align: right;\">\n",
       "      <th></th>\n",
       "      <th>user</th>\n",
       "      <th>text</th>\n",
       "    </tr>\n",
       "  </thead>\n",
       "  <tbody>\n",
       "    <tr>\n",
       "      <th>0</th>\n",
       "      <td>manny_rosen</td>\n",
       "      <td>@sanofi please tell us how many shares the Cr...</td>\n",
       "    </tr>\n",
       "    <tr>\n",
       "      <th>1</th>\n",
       "      <td>osi_abdul</td>\n",
       "      <td>https://t.co/atM98CpqF7  Like, comment, RT #P...</td>\n",
       "    </tr>\n",
       "    <tr>\n",
       "      <th>2</th>\n",
       "      <td>Patsyrw</td>\n",
       "      <td>Your AG Barr is as useless &amp;amp; corrupt as y...</td>\n",
       "    </tr>\n",
       "    <tr>\n",
       "      <th>3</th>\n",
       "      <td>seyedebrahimi_m</td>\n",
       "      <td>Mr. Trump! Wake Up!  Most of the comments bel...</td>\n",
       "    </tr>\n",
       "    <tr>\n",
       "      <th>4</th>\n",
       "      <td>James09254677</td>\n",
       "      <td>After 4 years you think you would have figure...</td>\n",
       "    </tr>\n",
       "  </tbody>\n",
       "</table>\n",
       "</div>"
      ],
      "text/plain": [
       "              user                                               text\n",
       "0      manny_rosen   @sanofi please tell us how many shares the Cr...\n",
       "1        osi_abdul   https://t.co/atM98CpqF7  Like, comment, RT #P...\n",
       "2          Patsyrw   Your AG Barr is as useless &amp; corrupt as y...\n",
       "3  seyedebrahimi_m   Mr. Trump! Wake Up!  Most of the comments bel...\n",
       "4    James09254677   After 4 years you think you would have figure..."
      ]
     },
     "execution_count": 29,
     "metadata": {},
     "output_type": "execute_result"
    }
   ],
   "source": [
    "df1.head(5)"
   ]
  },
  {
   "cell_type": "code",
   "execution_count": 30,
   "id": "dca008df",
   "metadata": {},
   "outputs": [
    {
     "name": "stdout",
     "output_type": "stream",
     "text": [
      " Your AG Barr is as useless &amp; corrupt as you are     Rep. Pramila Jayapal #SheGotItRight\n"
     ]
    },
    {
     "data": {
      "text/plain": [
       "Sentiment(polarity=0.0, subjectivity=0.0)"
      ]
     },
     "execution_count": 30,
     "metadata": {},
     "output_type": "execute_result"
    }
   ],
   "source": [
    "print(df1['text'][2])\n",
    "Tweet = TextBlob(df['text'][4])\n",
    "Tweet.sentiment"
   ]
  },
  {
   "cell_type": "code",
   "execution_count": 31,
   "id": "397ee15d",
   "metadata": {},
   "outputs": [
    {
     "name": "stdout",
     "output_type": "stream",
     "text": [
      "2788\n"
     ]
    }
   ],
   "source": [
    "from nltk.tokenize import word_tokenize\n",
    "from nltk.corpus import stopwords\n",
    "stop_words = set(stopwords.words('english'))\n",
    "cleantweets = []\n",
    "postags = []\n",
    "import string\n",
    "table = str.maketrans('','', string.punctuation)\n",
    "for title in df1['text']:\n",
    "    try:\n",
    "        title = p.clean(text)\n",
    "        #tokenize + lower case\n",
    "        words2 = word_tokenize(text.lower())\n",
    "        #remove puncts\n",
    "        words3 = [w.translate(table) for w in words2]\n",
    "        #remove stopwords\n",
    "        words4 = [word for word in words3 if word not in stop_words]\n",
    "        #applying lemmatization\n",
    "        words5 = [lemmatizer.lemmatize(word) for word in words4]\n",
    "                \n",
    "        #combining all words\n",
    "        cleantweets.append((\" \".join(words5)).strip())\n",
    "    except:\n",
    "        cleantweets.append(title)\n",
    "        continue\n",
    "\n",
    "print(len(cleantweets))\n",
    "df1['clean_Tweets'] = cleantweets"
   ]
  },
  {
   "cell_type": "code",
   "execution_count": 32,
   "id": "c0b7be77",
   "metadata": {},
   "outputs": [],
   "source": [
    "pos=neg=obj=count=0\n",
    "\n",
    "postagging = []\n",
    "\n",
    "for title in df1['clean_Tweets']:\n",
    "    list = word_tokenize(title)\n",
    "    postagging.append(nltk.pos_tag(list))\n",
    "\n",
    "df1['pos_tags'] = postagging"
   ]
  },
  {
   "cell_type": "code",
   "execution_count": 33,
   "id": "1ac079e6",
   "metadata": {},
   "outputs": [],
   "source": [
    "# Convert between the PennTreebank tags to simple Wordnet tags\n",
    "def penn_to_wn(tag):\n",
    "    if tag.startswith('J'):\n",
    "        return wn.ADJ\n",
    "    elif tag.startswith('N'):\n",
    "        return wn.NOUN\n",
    "    elif tag.startswith('R'):\n",
    "        return wn.ADV\n",
    "    elif tag.startswith('V'):\n",
    "        return wn.VERB\n",
    "    return None"
   ]
  },
  {
   "cell_type": "code",
   "execution_count": 34,
   "id": "bcd3a3de",
   "metadata": {},
   "outputs": [],
   "source": [
    "def get_sentiment(word,tag):\n",
    "    wn_tag = penn_to_wn(tag)\n",
    "    \n",
    "    if wn_tag not in (wn.NOUN, wn.ADJ, wn.ADV):\n",
    "        return []\n",
    "\n",
    "    #Lemmatization\n",
    "    lemma = lemmatizer.lemmatize(word, pos=wn_tag)\n",
    "    if not lemma:\n",
    "        return []\n",
    "\n",
    "    #Synset is a special kind of a simple interface that is present in NLTK to look up words in WordNet. \n",
    "    #Synset instances are the groupings of synonymous words that express the same concept. \n",
    "    #Some of the words have only one Synset and some have several.\n",
    "    synsets = wn.synsets(word, pos=wn_tag)\n",
    "    if not synsets:\n",
    "        return []\n",
    "\n",
    "    # Take the first sense, the most common\n",
    "    synset = synsets[0]\n",
    "    swn_synset = swn.senti_synset(synset.name())\n",
    "\n",
    "    return [synset.name(), swn_synset.pos_score(),swn_synset.neg_score(),swn_synset.obj_score()]"
   ]
  },
  {
   "cell_type": "code",
   "execution_count": 35,
   "id": "30dac077",
   "metadata": {},
   "outputs": [],
   "source": [
    "pos=neg=obj=count=0\n",
    "senti_score = []\n",
    "\n",
    "for pos_val in df1['pos_tags']:\n",
    "    senti_val = [get_sentiment(x,y) for (x,y) in pos_val]\n",
    "    for score in senti_val:\n",
    "        try:\n",
    "            pos = pos + score[1]  #positive score is stored at 2nd position\n",
    "            neg = neg + score[2]  #negative score is stored at 3rd position\n",
    "        except:\n",
    "            continue\n",
    "    senti_score.append(pos - neg)\n",
    "    pos=neg=0    \n",
    "    \n",
    "df1['senti_score'] = senti_score"
   ]
  },
  {
   "cell_type": "code",
   "execution_count": 36,
   "id": "7b7c686c",
   "metadata": {},
   "outputs": [],
   "source": [
    "df1['compound_label'] = df1['senti_score'].apply(lambda number: 'positive' if number>=0 else 'negative')"
   ]
  },
  {
   "cell_type": "code",
   "execution_count": 37,
   "id": "d4266933",
   "metadata": {},
   "outputs": [
    {
     "data": {
      "text/html": [
       "<div>\n",
       "<style scoped>\n",
       "    .dataframe tbody tr th:only-of-type {\n",
       "        vertical-align: middle;\n",
       "    }\n",
       "\n",
       "    .dataframe tbody tr th {\n",
       "        vertical-align: top;\n",
       "    }\n",
       "\n",
       "    .dataframe thead th {\n",
       "        text-align: right;\n",
       "    }\n",
       "</style>\n",
       "<table border=\"1\" class=\"dataframe\">\n",
       "  <thead>\n",
       "    <tr style=\"text-align: right;\">\n",
       "      <th></th>\n",
       "      <th>user</th>\n",
       "      <th>text</th>\n",
       "      <th>clean_Tweets</th>\n",
       "      <th>pos_tags</th>\n",
       "      <th>senti_score</th>\n",
       "      <th>compound_label</th>\n",
       "    </tr>\n",
       "  </thead>\n",
       "  <tbody>\n",
       "    <tr>\n",
       "      <th>0</th>\n",
       "      <td>manny_rosen</td>\n",
       "      <td>@sanofi please tell us how many shares the Cr...</td>\n",
       "      <td>@sanofi please tell us how many shares the Cr...</td>\n",
       "      <td>[(@, JJ), (sanofi, JJ), (please, NN), (tell, V...</td>\n",
       "      <td>-0.125</td>\n",
       "      <td>negative</td>\n",
       "    </tr>\n",
       "    <tr>\n",
       "      <th>1</th>\n",
       "      <td>osi_abdul</td>\n",
       "      <td>https://t.co/atM98CpqF7  Like, comment, RT #P...</td>\n",
       "      <td>https://t.co/atM98CpqF7  Like, comment, RT #P...</td>\n",
       "      <td>[(https, NN), (:, :), (//t.co/atM98CpqF7, NN),...</td>\n",
       "      <td>0.000</td>\n",
       "      <td>positive</td>\n",
       "    </tr>\n",
       "    <tr>\n",
       "      <th>2</th>\n",
       "      <td>Patsyrw</td>\n",
       "      <td>Your AG Barr is as useless &amp;amp; corrupt as y...</td>\n",
       "      <td>Your AG Barr is as useless &amp;amp; corrupt as y...</td>\n",
       "      <td>[(Your, PRP$), (AG, NNP), (Barr, NNP), (is, VB...</td>\n",
       "      <td>-0.500</td>\n",
       "      <td>negative</td>\n",
       "    </tr>\n",
       "    <tr>\n",
       "      <th>3</th>\n",
       "      <td>seyedebrahimi_m</td>\n",
       "      <td>Mr. Trump! Wake Up!  Most of the comments bel...</td>\n",
       "      <td>Mr. Trump! Wake Up!  Most of the comments bel...</td>\n",
       "      <td>[(Mr., NNP), (Trump, NNP), (!, .), (Wake, VB),...</td>\n",
       "      <td>0.000</td>\n",
       "      <td>positive</td>\n",
       "    </tr>\n",
       "    <tr>\n",
       "      <th>4</th>\n",
       "      <td>James09254677</td>\n",
       "      <td>After 4 years you think you would have figure...</td>\n",
       "      <td>After 4 years you think you would have figure...</td>\n",
       "      <td>[(After, IN), (4, CD), (years, NNS), (you, PRP...</td>\n",
       "      <td>-0.625</td>\n",
       "      <td>negative</td>\n",
       "    </tr>\n",
       "  </tbody>\n",
       "</table>\n",
       "</div>"
      ],
      "text/plain": [
       "              user                                               text  \\\n",
       "0      manny_rosen   @sanofi please tell us how many shares the Cr...   \n",
       "1        osi_abdul   https://t.co/atM98CpqF7  Like, comment, RT #P...   \n",
       "2          Patsyrw   Your AG Barr is as useless &amp; corrupt as y...   \n",
       "3  seyedebrahimi_m   Mr. Trump! Wake Up!  Most of the comments bel...   \n",
       "4    James09254677   After 4 years you think you would have figure...   \n",
       "\n",
       "                                        clean_Tweets  \\\n",
       "0   @sanofi please tell us how many shares the Cr...   \n",
       "1   https://t.co/atM98CpqF7  Like, comment, RT #P...   \n",
       "2   Your AG Barr is as useless &amp; corrupt as y...   \n",
       "3   Mr. Trump! Wake Up!  Most of the comments bel...   \n",
       "4   After 4 years you think you would have figure...   \n",
       "\n",
       "                                            pos_tags  senti_score  \\\n",
       "0  [(@, JJ), (sanofi, JJ), (please, NN), (tell, V...       -0.125   \n",
       "1  [(https, NN), (:, :), (//t.co/atM98CpqF7, NN),...        0.000   \n",
       "2  [(Your, PRP$), (AG, NNP), (Barr, NNP), (is, VB...       -0.500   \n",
       "3  [(Mr., NNP), (Trump, NNP), (!, .), (Wake, VB),...        0.000   \n",
       "4  [(After, IN), (4, CD), (years, NNS), (you, PRP...       -0.625   \n",
       "\n",
       "  compound_label  \n",
       "0       negative  \n",
       "1       positive  \n",
       "2       negative  \n",
       "3       positive  \n",
       "4       negative  "
      ]
     },
     "execution_count": 37,
     "metadata": {},
     "output_type": "execute_result"
    }
   ],
   "source": [
    "df1.head(5)"
   ]
  },
  {
   "cell_type": "code",
   "execution_count": 38,
   "id": "bb4aad82",
   "metadata": {},
   "outputs": [
    {
     "data": {
      "text/plain": [
       "<Axes: ylabel='count'>"
      ]
     },
     "execution_count": 38,
     "metadata": {},
     "output_type": "execute_result"
    },
    {
     "data": {
      "image/png": "[encoded data removed]",
      "text/plain": [
       "<Figure size 640x480 with 1 Axes>"
      ]
     },
     "metadata": {},
     "output_type": "display_data"
    }
   ],
   "source": [
    "#Trump\n",
    "df1['compound_label'].value_counts().plot(kind='pie')"
   ]
  },
  {
   "cell_type": "code",
   "execution_count": 39,
   "id": "ed476eb1",
   "metadata": {},
   "outputs": [
    {
     "data": {
      "text/plain": [
       "<Axes: ylabel='count'>"
      ]
     },
     "execution_count": 39,
     "metadata": {},
     "output_type": "execute_result"
    },
    {
     "data": {
      "image/png": "[encoded data removed]",
      "text/plain": [
       "<Figure size 640x480 with 1 Axes>"
      ]
     },
     "metadata": {},
     "output_type": "display_data"
    }
   ],
   "source": [
    "#Biden\n",
    "df['compound_label'].value_counts().plot(kind='pie')"
   ]
  },
  {
   "cell_type": "code",
   "execution_count": null,
   "id": "aa6a264e",
   "metadata": {},
   "outputs": [],
   "source": []
  }
 ],
 "metadata": {
  "kernelspec": {
   "display_name": "Python 3 (ipykernel)",
   "language": "python",
   "name": "python3"
  },
  "language_info": {
   "codemirror_mode": {
    "name": "ipython",
    "version": 3
   },
   "file_extension": ".py",
   "mimetype": "text/x-python",
   "name": "python",
   "nbconvert_exporter": "python",
   "pygments_lexer": "ipython3",
   "version": "3.11.5"
  }
 },
 "nbformat": 4,
 "nbformat_minor": 5
}

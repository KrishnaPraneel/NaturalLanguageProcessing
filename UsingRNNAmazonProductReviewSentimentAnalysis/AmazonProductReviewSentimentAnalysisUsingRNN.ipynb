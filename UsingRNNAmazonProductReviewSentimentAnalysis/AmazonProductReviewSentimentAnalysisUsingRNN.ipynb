{
 "cells": [
  {
   "cell_type": "code",
   "execution_count": 7,
   "id": "7aced809",
   "metadata": {},
   "outputs": [],
   "source": [
    "import pandas as pd\n",
    "import numpy as np\n",
    "import matplotlib.pyplot as plt\n",
    "import re\n",
    "import seaborn as sns\n",
    "import nltk\n",
    "from nltk.corpus import stopwords\n",
    "from nltk.tokenize import word_tokenize\n",
    "import tensorflow as tf\n",
    "from tensorflow.keras.layers import SimpleRNN, LSTM, Dense, Dropout, Embedding, BatchNormalization\n",
    "from tensorflow.keras.models import Sequential\n",
    "from tensorflow.keras.preprocessing.text import Tokenizer\n",
    "from tensorflow.keras.utils import pad_sequences\n",
    "import warnings \n",
    "warnings.filterwarnings('ignore')"
   ]
  },
  {
   "cell_type": "code",
   "execution_count": 8,
   "id": "fc78bb88",
   "metadata": {},
   "outputs": [],
   "source": [
    "data = pd.read_csv('/Users/krishnapeddibhotla/Downloads/AmazonReview.csv')"
   ]
  },
  {
   "cell_type": "code",
   "execution_count": 9,
   "id": "dff09ed5",
   "metadata": {},
   "outputs": [
    {
     "name": "stdout",
     "output_type": "stream",
     "text": [
      "(25000, 2)\n"
     ]
    }
   ],
   "source": [
    "# Printing shape of the dataset \n",
    "print(data.shape) "
   ]
  },
  {
   "cell_type": "code",
   "execution_count": 10,
   "id": "20889e3d",
   "metadata": {},
   "outputs": [
    {
     "name": "stdout",
     "output_type": "stream",
     "text": [
      "<class 'pandas.core.frame.DataFrame'>\n",
      "RangeIndex: 25000 entries, 0 to 24999\n",
      "Data columns (total 2 columns):\n",
      " #   Column     Non-Null Count  Dtype \n",
      "---  ------     --------------  ----- \n",
      " 0   Review     24999 non-null  object\n",
      " 1   Sentiment  25000 non-null  int64 \n",
      "dtypes: int64(1), object(1)\n",
      "memory usage: 390.8+ KB\n",
      "None\n"
     ]
    }
   ],
   "source": [
    "# printing columns and rows information \n",
    "print(data.info())"
   ]
  },
  {
   "cell_type": "code",
   "execution_count": 11,
   "id": "10438c6a",
   "metadata": {},
   "outputs": [
    {
     "name": "stdout",
     "output_type": "stream",
     "text": [
      "Null Values:\n",
      " Review       1\n",
      "Sentiment    0\n",
      "dtype: int64\n"
     ]
    }
   ],
   "source": [
    "# looking for NULL values \n",
    "print(\"Null Values:\\n\", data.isna().sum()) "
   ]
  },
  {
   "cell_type": "code",
   "execution_count": 12,
   "id": "e5b8ae00",
   "metadata": {},
   "outputs": [],
   "source": [
    "# dropping null values \n",
    "data = data.dropna() "
   ]
  },
  {
   "cell_type": "code",
   "execution_count": 13,
   "id": "00b3d8be",
   "metadata": {},
   "outputs": [
    {
     "name": "stdout",
     "output_type": "stream",
     "text": [
      "Null Values after dropping:\n",
      " Review       0\n",
      "Sentiment    0\n",
      "dtype: int64\n"
     ]
    }
   ],
   "source": [
    "# again checking for NULL values \n",
    "print(\"Null Values after dropping:\\n\", data.isna().sum())"
   ]
  },
  {
   "cell_type": "code",
   "execution_count": 14,
   "id": "26003359",
   "metadata": {},
   "outputs": [
    {
     "data": {
      "text/plain": [
       "Sentiment\n",
       "1    5000\n",
       "2    5000\n",
       "3    5000\n",
       "4    5000\n",
       "5    4999\n",
       "Name: count, dtype: int64"
      ]
     },
     "execution_count": 14,
     "metadata": {},
     "output_type": "execute_result"
    }
   ],
   "source": [
    "# count of unique values in Sentiment column \n",
    "data['Sentiment'].value_counts()"
   ]
  },
  {
   "cell_type": "code",
   "execution_count": 24,
   "id": "2b7815c8",
   "metadata": {},
   "outputs": [
    {
     "name": "stderr",
     "output_type": "stream",
     "text": [
      "[nltk_data] Downloading package stopwords to\n",
      "[nltk_data]     /Users/krishnapeddibhotla/nltk_data...\n",
      "[nltk_data]   Package stopwords is already up-to-date!\n"
     ]
    }
   ],
   "source": [
    "# downloading stopwords from nltk library \n",
    "nltk.download('stopwords') \n",
    "stop_words = set(stopwords.words('english')) \n",
    "  \n",
    "# Review text Cleaning \n",
    "def Clean_reviews(text):\n",
    "    \n",
    "    # removing html brackets and other square brackets from the string\n",
    "    regex = re.compile('<.*?>')\n",
    "    text = re.sub(regex, '', text)\n",
    "    \n",
    "    # removing special characters like @, #, $, etc \n",
    "    pattern = re.compile('[^a-zA-z0-9\\s]') \n",
    "    text = re.sub(pattern,'',text) \n",
    "  \n",
    "    # removing numbers \n",
    "    pattern = re.compile('\\d+') \n",
    "    text = re.sub(pattern,'',text) \n",
    "  \n",
    "    # converting text to lower case \n",
    "    text = text.lower() \n",
    "      \n",
    "    # Tokenization of words \n",
    "    text = word_tokenize(text) \n",
    "      \n",
    "    # Stop words removal \n",
    "    text = [word for word in text if not word in stop_words] \n",
    "      \n",
    "    return text "
   ]
  },
  {
   "cell_type": "code",
   "execution_count": 25,
   "id": "00029dce",
   "metadata": {},
   "outputs": [],
   "source": [
    "# using the clean_reviews function on the dataset \n",
    "data['Review'] = data['Review'].apply(Clean_reviews)"
   ]
  },
  {
   "cell_type": "code",
   "execution_count": 31,
   "id": "7935c8e5",
   "metadata": {},
   "outputs": [
    {
     "name": "stdout",
     "output_type": "stream",
     "text": [
      "(24999, 500) (24999, 5)\n"
     ]
    }
   ],
   "source": [
    "from tensorflow.keras.preprocessing.text import Tokenizer\n",
    "from tensorflow.keras.preprocessing.sequence import pad_sequences\n",
    "import numpy as np\n",
    "import pandas as pd\n",
    "\n",
    "# Assuming `data` is your DataFrame with a 'Review' column and a 'Sentiment' column\n",
    "\n",
    "# Initialize the tokenizer\n",
    "tokenizer = Tokenizer()\n",
    "\n",
    "# Converting all the reviews to a list\n",
    "reviews_to_list = data['Review'].tolist()\n",
    "\n",
    "# Fit the tokenizer on the texts\n",
    "tokenizer.fit_on_texts(reviews_to_list)\n",
    "\n",
    "# Generate text sequences\n",
    "text_sequences = tokenizer.texts_to_sequences(reviews_to_list)\n",
    "\n",
    "# Set the maximum words we want in an example (padding length)\n",
    "max_words = 500\n",
    "\n",
    "# Pad sequences to ensure uniform length\n",
    "X = pad_sequences(text_sequences, maxlen=max_words)\n",
    "\n",
    "# One-hot encode the 'Sentiment' column\n",
    "data = pd.get_dummies(data, columns=['Sentiment'])\n",
    "\n",
    "# Set the target variables (y)\n",
    "y = data[['Sentiment_1', 'Sentiment_2', 'Sentiment_3', 'Sentiment_4', 'Sentiment_5']]\n",
    "\n",
    "# Convert y to a NumPy array\n",
    "y = y.values\n",
    "\n",
    "# Print the shapes of X and y\n",
    "print(X.shape, y.shape)"
   ]
  },
  {
   "cell_type": "code",
   "execution_count": 32,
   "id": "e3d3e49e",
   "metadata": {},
   "outputs": [
    {
     "name": "stdout",
     "output_type": "stream",
     "text": [
      "(19999, 500) (5000, 500) (19999, 5) (5000, 5)\n"
     ]
    }
   ],
   "source": [
    "# Train Test split \n",
    "from sklearn.model_selection import train_test_split \n",
    "X_train, X_test, y_train, y_test = train_test_split(X, y, test_size=0.20, random_state=42) \n",
    "\n",
    "print(X_train.shape, X_test.shape, y_train.shape, y_test.shape)"
   ]
  },
  {
   "cell_type": "code",
   "execution_count": 33,
   "id": "e8a23b2c",
   "metadata": {},
   "outputs": [
    {
     "name": "stdout",
     "output_type": "stream",
     "text": [
      "Model: \"Simple_RNN\"\n",
      "_________________________________________________________________\n",
      " Layer (type)                Output Shape              Param #   \n",
      "=================================================================\n",
      " embedding (Embedding)       (None, 500, 500)          19819500  \n",
      "                                                                 \n",
      " simple_rnn (SimpleRNN)      (None, 500, 128)          80512     \n",
      "                                                                 \n",
      " simple_rnn_1 (SimpleRNN)    (None, 64)                12352     \n",
      "                                                                 \n",
      " dense (Dense)               (None, 5)                 325       \n",
      "                                                                 \n",
      "=================================================================\n",
      "Total params: 19912689 (75.96 MB)\n",
      "Trainable params: 19912689 (75.96 MB)\n",
      "Non-trainable params: 0 (0.00 Byte)\n",
      "_________________________________________________________________\n",
      "None\n"
     ]
    }
   ],
   "source": [
    "# Creating a RNN model \n",
    "rnn = Sequential(name=\"Simple_RNN\") \n",
    "rnn.add(Embedding(len(tokenizer.word_index)+1, max_words, input_length=max_words)) \n",
    "rnn.add(SimpleRNN(128,activation='relu',return_sequences=True)) \n",
    "rnn.add(SimpleRNN(64,activation='relu',return_sequences=False)) \n",
    "rnn.add(Dense(5, activation='softmax')) \n",
    "# printing model summary \n",
    "print(rnn.summary())"
   ]
  },
  {
   "cell_type": "code",
   "execution_count": 34,
   "id": "e79be780",
   "metadata": {},
   "outputs": [
    {
     "name": "stdout",
     "output_type": "stream",
     "text": [
      "Epoch 1/2\n",
      "313/313 [==============================] - 147s 467ms/step - loss: 1.3842 - accuracy: 0.3732 - val_loss: 1.2707 - val_accuracy: 0.4384\n",
      "Epoch 2/2\n",
      "313/313 [==============================] - 140s 448ms/step - loss: 1.0554 - accuracy: 0.5579 - val_loss: 1.3189 - val_accuracy: 0.4240\n",
      "157/157 [==============================] - 14s 91ms/step - loss: 1.3189 - accuracy: 0.4240\n",
      "Simple_RNN Score--->  [1.318878173828125, 0.42399999499320984]\n"
     ]
    }
   ],
   "source": [
    "# Compiling model \n",
    "rnn.compile(loss=\"categorical_crossentropy\", optimizer='adam', metrics=['accuracy']) \n",
    "\n",
    "# Training the model \n",
    "history = rnn.fit(X_train, y_train, batch_size=64, epochs=2, verbose=1, validation_data = (X_test, y_test)) \n",
    "\n",
    "# Printing model score on test data \n",
    "print(\"Simple_RNN Score---> \", rnn.evaluate(X_test, y_test, verbose=1))"
   ]
  },
  {
   "cell_type": "code",
   "execution_count": 35,
   "id": "32c5208a",
   "metadata": {},
   "outputs": [
    {
     "name": "stdout",
     "output_type": "stream",
     "text": [
      "Model: \"LSTM_Model\"\n",
      "_________________________________________________________________\n",
      " Layer (type)                Output Shape              Param #   \n",
      "=================================================================\n",
      " embedding_1 (Embedding)     (None, 500, 500)          19819500  \n",
      "                                                                 \n",
      " lstm (LSTM)                 (None, 150)               390600    \n",
      "                                                                 \n",
      " dropout (Dropout)           (None, 150)               0         \n",
      "                                                                 \n",
      " dense_1 (Dense)             (None, 50)                7550      \n",
      "                                                                 \n",
      " dropout_1 (Dropout)         (None, 50)                0         \n",
      "                                                                 \n",
      " dense_2 (Dense)             (None, 5)                 255       \n",
      "                                                                 \n",
      "=================================================================\n",
      "Total params: 20217905 (77.13 MB)\n",
      "Trainable params: 20217905 (77.13 MB)\n",
      "Non-trainable params: 0 (0.00 Byte)\n",
      "_________________________________________________________________\n",
      "None\n"
     ]
    }
   ],
   "source": [
    "model = Sequential(name=\"LSTM_Model\") \n",
    "model.add(Embedding(len(tokenizer.word_index)+1, max_words, input_length=max_words)) \n",
    "\n",
    "# adding a LSTM layer \n",
    "model.add(LSTM(150, return_sequences=False)) \n",
    "BatchNormalization() \n",
    "model.add(Dropout(0.5)) \n",
    "\n",
    "#adding a dense layer with activation function of relu \n",
    "model.add(Dense(50, activation='relu')) \n",
    "BatchNormalization() \n",
    "model.add(Dropout(0.5)) \n",
    "\n",
    "# adding the final output activation with activation function of softmax \n",
    "model.add(Dense(5, activation='softmax')) \n",
    "\n",
    "# printing model summary \n",
    "print(model.summary())"
   ]
  },
  {
   "cell_type": "code",
   "execution_count": 36,
   "id": "50f0d0e6",
   "metadata": {},
   "outputs": [
    {
     "name": "stdout",
     "output_type": "stream",
     "text": [
      "Epoch 1/3\n",
      "313/313 [==============================] - 296s 940ms/step - loss: 1.3721 - accuracy: 0.3835 - val_loss: 1.2142 - val_accuracy: 0.4752\n",
      "Epoch 2/3\n",
      "313/313 [==============================] - 368s 1s/step - loss: 1.1029 - accuracy: 0.5311 - val_loss: 1.2512 - val_accuracy: 0.4618\n",
      "Epoch 3/3\n",
      "313/313 [==============================] - 343s 1s/step - loss: 0.8996 - accuracy: 0.6427 - val_loss: 1.3624 - val_accuracy: 0.4490\n",
      "157/157 [==============================] - 23s 145ms/step - loss: 1.3624 - accuracy: 0.4490\n",
      "LSTM model Score--->  [1.3624300956726074, 0.4490000009536743]\n"
     ]
    }
   ],
   "source": [
    "# Compiling the model \n",
    "model.compile(loss=\"categorical_crossentropy\", optimizer='adam', metrics=['accuracy'] ) \n",
    "\n",
    "# Training the GRU model \n",
    "history = model.fit(X_train, y_train, batch_size=64, epochs=3, verbose=1, validation_data=(X_test, y_test)) \n",
    "\n",
    "# Printing model score on test data \n",
    "print(\"LSTM model Score---> \", model.evaluate(X_test, y_test, verbose=1))"
   ]
  },
  {
   "cell_type": "code",
   "execution_count": 37,
   "id": "47a65bd6",
   "metadata": {},
   "outputs": [
    {
     "data": {
      "text/plain": [
       "Text(0, 0.5, 'Accuracy')"
      ]
     },
     "execution_count": 37,
     "metadata": {},
     "output_type": "execute_result"
    },
    {
     "data": {
      "image/png": "[encoded data removed]",
      "text/plain": [
       "<Figure size 1000x500 with 2 Axes>"
      ]
     },
     "metadata": {},
     "output_type": "display_data"
    }
   ],
   "source": [
    "# Plotting the history \n",
    "metrics = history.history \n",
    "plt.figure(figsize=(10, 5)) \n",
    "\n",
    "# Plotting training and validation loss \n",
    "plt.subplot(1, 2, 1) \n",
    "plt.plot(history.epoch, metrics['loss'], metrics['val_loss']) \n",
    "plt.legend(['loss', 'val_loss']) \n",
    "plt.xlabel('Epoch') \n",
    "plt.ylabel('Loss') \n",
    "\n",
    "# Plotting training and validation accuracy \n",
    "plt.subplot(1, 2, 2) \n",
    "plt.plot(history.epoch, metrics['accuracy'], metrics['val_accuracy']) \n",
    "plt.legend(['accuracy', 'val_accuracy']) \n",
    "plt.xlabel('Epoch') \n",
    "plt.ylabel('Accuracy')"
   ]
  },
  {
   "cell_type": "code",
   "execution_count": 39,
   "id": "e600e049",
   "metadata": {},
   "outputs": [
    {
     "name": "stdout",
     "output_type": "stream",
     "text": [
      "y_true shape: (5000,)\n",
      "157/157 [==============================] - 23s 143ms/step\n"
     ]
    },
    {
     "data": {
      "image/png": "[encoded data removed]",
      "text/plain": [
       "<Figure size 1000x800 with 2 Axes>"
      ]
     },
     "metadata": {},
     "output_type": "display_data"
    }
   ],
   "source": [
    "# converting y_test tht was one hot encoded to one column fo rconfusion matrix \n",
    "y_true = np.argmax(y_test, axis=1)\n",
    "print(\"y_true shape:\", y_true.shape)\n",
    "\n",
    "# Predicting the labels for X_test and converting to single column\n",
    "y_pred = np.argmax(model.predict(X_test), axis=1)\n",
    "\n",
    "# Creating the confusion matrix\n",
    "cm = tf.math.confusion_matrix(y_true, y_pred)\n",
    "\n",
    "# Plotting the confusion matrix\n",
    "plt.figure(figsize=(10, 8))\n",
    "sns.heatmap(cm, annot=True, fmt='g')\n",
    "plt.xlabel('Predicted')\n",
    "plt.ylabel('Actual')\n",
    "plt.show()"
   ]
  },
  {
   "cell_type": "code",
   "execution_count": 40,
   "id": "33544def",
   "metadata": {},
   "outputs": [
    {
     "name": "stdout",
     "output_type": "stream",
     "text": [
      "              precision    recall  f1-score   support\n",
      "\n",
      "           0       0.59      0.46      0.52      1021\n",
      "           1       0.36      0.41      0.38      1000\n",
      "           2       0.36      0.41      0.39       985\n",
      "           3       0.41      0.45      0.43       973\n",
      "           4       0.59      0.50      0.54      1021\n",
      "\n",
      "    accuracy                           0.45      5000\n",
      "   macro avg       0.46      0.45      0.45      5000\n",
      "weighted avg       0.47      0.45      0.45      5000\n",
      "\n"
     ]
    }
   ],
   "source": [
    "from sklearn.metrics import classification_report \n",
    "report = classification_report(y_true, y_pred) \n",
    "print(report)"
   ]
  },
  {
   "cell_type": "code",
   "execution_count": 42,
   "id": "c7314cf0",
   "metadata": {
    "scrolled": true
   },
   "outputs": [
    {
     "name": "stdout",
     "output_type": "stream",
     "text": [
      "1/1 [==============================] - 0s 88ms/step\n",
      "The rating according to the review is: 1\n",
      "1/1 [==============================] - 0s 35ms/step\n",
      "The rating according to the review is: 5\n"
     ]
    }
   ],
   "source": [
    "def predict_review_rating(text):\n",
    "    # Convert the input text to sequences using the fitted tokenizer\n",
    "    text_sequences_test = tokenizer.texts_to_sequences([text])\n",
    "    \n",
    "    # Pad the sequences to ensure they are of the same length as used during training\n",
    "    testing = pad_sequences(text_sequences_test, maxlen=max_words)\n",
    "    \n",
    "    # Predict the class (rating - 1) using the model\n",
    "    y_pred_test = np.argmax(model.predict(testing), axis=1)\n",
    "    \n",
    "    # Return the rating by adding 1 to the predicted class\n",
    "    return y_pred_test[0] + 1\n",
    "\n",
    "# Testing the function\n",
    "rating1 = predict_review_rating('Worst product')\n",
    "print(\"The rating according to the review is:\", rating1)\n",
    "\n",
    "rating2 = predict_review_rating('Awesome product, I will recommend this to other users.')\n",
    "print(\"The rating according to the review is:\", rating2)"
   ]
  },
  {
   "cell_type": "code",
   "execution_count": null,
   "id": "5fda33ef",
   "metadata": {},
   "outputs": [],
   "source": []
  }
 ],
 "metadata": {
  "kernelspec": {
   "display_name": "Python 3 (ipykernel)",
   "language": "python",
   "name": "python3"
  },
  "language_info": {
   "codemirror_mode": {
    "name": "ipython",
    "version": 3
   },
   "file_extension": ".py",
   "mimetype": "text/x-python",
   "name": "python",
   "nbconvert_exporter": "python",
   "pygments_lexer": "ipython3",
   "version": "3.11.5"
  }
 },
 "nbformat": 4,
 "nbformat_minor": 5
}
